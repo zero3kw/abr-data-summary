{
  "cells": [
    {
      "cell_type": "markdown",
      "metadata": {
        "id": "view-in-github",
        "colab_type": "text"
      },
      "source": [
        "<a href=\"https://colab.research.google.com/github/zero3kw/abr-data-summary/blob/main/abr_data_summery.ipynb\" target=\"_parent\"><img src=\"https://colab.research.google.com/assets/colab-badge.svg\" alt=\"Open In Colab\"/></a>"
      ]
    },
    {
      "cell_type": "code",
      "execution_count": null,
      "metadata": {
        "id": "8xOR5jfmu395"
      },
      "outputs": [],
      "source": [
        "import io\n",
        "import urllib.request\n",
        "import zipfile\n",
        "import pandas as pd\n",
        "\n",
        "def get_data(url):\n",
        "    req = urllib.request.Request(url)\n",
        "    with urllib.request.urlopen(req) as res:\n",
        "        data = res.read()\n",
        "    with zipfile.ZipFile(io.BytesIO(data), 'r') as zip_file:\n",
        "        with zip_file.open(zip_file.namelist()[0], 'r') as zip_data:\n",
        "            return zip_data.read().decode('utf-8')\n",
        "\n",
        "def make_dataframe(data):\n",
        "    dataset = []\n",
        "    for line in data.split('\\r\\n'):\n",
        "        if len(line) > 0:\n",
        "            dataset.append(line.split(','))\n",
        "    return pd.DataFrame(dataset[1:],columns=dataset[0])"
      ]
    },
    {
      "cell_type": "code",
      "execution_count": null,
      "metadata": {
        "id": "wRwxkwAdFzy2",
        "outputId": "c84de563-72d9-4dce-b7c8-526f4c022564"
      },
      "outputs": [
        {
          "name": "stdout",
          "output_type": "stream",
          "text": [
            "<class 'pandas.core.frame.DataFrame'>\n",
            "RangeIndex: 47 entries, 0 to 46\n",
            "Data columns (total 7 columns):\n",
            " #   Column       Non-Null Count  Dtype \n",
            "---  ------       --------------  ----- \n",
            " 0   全国地方公共団体コード  47 non-null     object\n",
            " 1   都道府県名        47 non-null     object\n",
            " 2   都道府県名_カナ     47 non-null     object\n",
            " 3   都道府県名_英字     47 non-null     object\n",
            " 4   効力発生日        47 non-null     object\n",
            " 5   廃止日          47 non-null     object\n",
            " 6   備考           47 non-null     object\n",
            "dtypes: object(7)\n",
            "memory usage: 2.7+ KB\n"
          ]
        },
        {
          "data": {
            "text/html": [
              "<div>\n",
              "<style scoped>\n",
              "    .dataframe tbody tr th:only-of-type {\n",
              "        vertical-align: middle;\n",
              "    }\n",
              "\n",
              "    .dataframe tbody tr th {\n",
              "        vertical-align: top;\n",
              "    }\n",
              "\n",
              "    .dataframe thead th {\n",
              "        text-align: right;\n",
              "    }\n",
              "</style>\n",
              "<table border=\"1\" class=\"dataframe\">\n",
              "  <thead>\n",
              "    <tr style=\"text-align: right;\">\n",
              "      <th></th>\n",
              "      <th>全国地方公共団体コード</th>\n",
              "      <th>都道府県名</th>\n",
              "      <th>都道府県名_カナ</th>\n",
              "      <th>都道府県名_英字</th>\n",
              "      <th>効力発生日</th>\n",
              "      <th>廃止日</th>\n",
              "      <th>備考</th>\n",
              "    </tr>\n",
              "  </thead>\n",
              "  <tbody>\n",
              "    <tr>\n",
              "      <th>0</th>\n",
              "      <td>010006</td>\n",
              "      <td>北海道</td>\n",
              "      <td>ホッカイドウ</td>\n",
              "      <td>Hokkaido</td>\n",
              "      <td>1947-04-17</td>\n",
              "      <td></td>\n",
              "      <td></td>\n",
              "    </tr>\n",
              "    <tr>\n",
              "      <th>1</th>\n",
              "      <td>020001</td>\n",
              "      <td>青森県</td>\n",
              "      <td>アオモリケン</td>\n",
              "      <td>Aomori</td>\n",
              "      <td>1947-04-17</td>\n",
              "      <td></td>\n",
              "      <td></td>\n",
              "    </tr>\n",
              "    <tr>\n",
              "      <th>2</th>\n",
              "      <td>030007</td>\n",
              "      <td>岩手県</td>\n",
              "      <td>イワテケン</td>\n",
              "      <td>Iwate</td>\n",
              "      <td>1947-04-17</td>\n",
              "      <td></td>\n",
              "      <td></td>\n",
              "    </tr>\n",
              "  </tbody>\n",
              "</table>\n",
              "</div>"
            ],
            "text/plain": [
              "  全国地方公共団体コード 都道府県名 都道府県名_カナ  都道府県名_英字       効力発生日 廃止日 備考\n",
              "0      010006   北海道   ホッカイドウ  Hokkaido  1947-04-17       \n",
              "1      020001   青森県   アオモリケン    Aomori  1947-04-17       \n",
              "2      030007   岩手県    イワテケン     Iwate  1947-04-17       "
            ]
          },
          "execution_count": 28,
          "metadata": {},
          "output_type": "execute_result"
        }
      ],
      "source": [
        "url = 'https://gov-csv-export-public.s3.ap-northeast-1.amazonaws.com/mt_pref/mt_pref_all.csv.zip'\n",
        "data = get_data(url)\n",
        "df = make_dataframe(data)\n",
        "df.info()\n",
        "df.head(3)"
      ]
    },
    {
      "cell_type": "code",
      "execution_count": null,
      "metadata": {
        "id": "G3Mzo7O9Fzy3",
        "outputId": "8a8816d5-0c43-4fdf-d7fe-ca0b4e0e3739"
      },
      "outputs": [
        {
          "name": "stdout",
          "output_type": "stream",
          "text": [
            "<class 'pandas.core.frame.DataFrame'>\n",
            "RangeIndex: 1922 entries, 0 to 1921\n",
            "Data columns (total 16 columns):\n",
            " #   Column       Non-Null Count  Dtype \n",
            "---  ------       --------------  ----- \n",
            " 0   全国地方公共団体コード  1922 non-null   object\n",
            " 1   都道府県名        1922 non-null   object\n",
            " 2   都道府県名_カナ     1922 non-null   object\n",
            " 3   都道府県名_英字     1922 non-null   object\n",
            " 4   郡名           1922 non-null   object\n",
            " 5   郡名_カナ        1922 non-null   object\n",
            " 6   郡名_英字        1922 non-null   object\n",
            " 7   市区町村名        1922 non-null   object\n",
            " 8   市区町村名_カナ     1922 non-null   object\n",
            " 9   市区町村名_英字     1922 non-null   object\n",
            " 10  政令市区名        1922 non-null   object\n",
            " 11  政令市区名_カナ     1922 non-null   object\n",
            " 12  政令市区名_英字     1922 non-null   object\n",
            " 13  効力発生日        1922 non-null   object\n",
            " 14  廃止日          1922 non-null   object\n",
            " 15  備考           1922 non-null   object\n",
            "dtypes: object(16)\n",
            "memory usage: 240.4+ KB\n"
          ]
        },
        {
          "ename": "ValueError",
          "evalue": "No axis named 都道府県名 for object type DataFrame",
          "output_type": "error",
          "traceback": [
            "\u001b[0;31m---------------------------------------------------------------------------\u001b[0m",
            "\u001b[0;31mKeyError\u001b[0m                                  Traceback (most recent call last)",
            "File \u001b[0;32m/usr/local/lib/python3.9/site-packages/pandas/core/generic.py:550\u001b[0m, in \u001b[0;36mNDFrame._get_axis_number\u001b[0;34m(cls, axis)\u001b[0m\n\u001b[1;32m    549\u001b[0m \u001b[39mtry\u001b[39;00m:\n\u001b[0;32m--> 550\u001b[0m     \u001b[39mreturn\u001b[39;00m \u001b[39mcls\u001b[39;49m\u001b[39m.\u001b[39;49m_AXIS_TO_AXIS_NUMBER[axis]\n\u001b[1;32m    551\u001b[0m \u001b[39mexcept\u001b[39;00m \u001b[39mKeyError\u001b[39;00m:\n",
            "\u001b[0;31mKeyError\u001b[0m: '都道府県名'",
            "\nDuring handling of the above exception, another exception occurred:\n",
            "\u001b[0;31mValueError\u001b[0m                                Traceback (most recent call last)",
            "\u001b[1;32mセル3 を /Volumes/GoogleDrive-115856606968121538167/マイドライブ/sandbox/abr-data-summery.ipynb\u001b[0m in \u001b[0;36m<cell line: 8>\u001b[0;34m()\u001b[0m\n\u001b[1;32m      <a href='vscode-notebook-cell:/Volumes/GoogleDrive-115856606968121538167/%E3%83%9E%E3%82%A4%E3%83%88%E3%82%99%E3%83%A9%E3%82%A4%E3%83%95%E3%82%99/sandbox/abr-data-summery.ipynb#W2sZmlsZQ%3D%3D?line=3'>4</a>\u001b[0m df\u001b[39m.\u001b[39minfo()\n\u001b[1;32m      <a href='vscode-notebook-cell:/Volumes/GoogleDrive-115856606968121538167/%E3%83%9E%E3%82%A4%E3%83%88%E3%82%99%E3%83%A9%E3%82%A4%E3%83%95%E3%82%99/sandbox/abr-data-summery.ipynb#W2sZmlsZQ%3D%3D?line=5'>6</a>\u001b[0m df\u001b[39m.\u001b[39mhead(\u001b[39m3\u001b[39m)\n\u001b[0;32m----> <a href='vscode-notebook-cell:/Volumes/GoogleDrive-115856606968121538167/%E3%83%9E%E3%82%A4%E3%83%88%E3%82%99%E3%83%A9%E3%82%A4%E3%83%95%E3%82%99/sandbox/abr-data-summery.ipynb#W2sZmlsZQ%3D%3D?line=7'>8</a>\u001b[0m df\u001b[39m.\u001b[39;49mgroupby(\u001b[39m'\u001b[39;49m\u001b[39m全国地方公共団体コード\u001b[39;49m\u001b[39m'\u001b[39;49m,\u001b[39m'\u001b[39;49m\u001b[39m都道府県名\u001b[39;49m\u001b[39m'\u001b[39;49m)\u001b[39m.\u001b[39msize()\u001b[39m.\u001b[39msort_index()\n",
            "File \u001b[0;32m/usr/local/lib/python3.9/site-packages/pandas/core/frame.py:7713\u001b[0m, in \u001b[0;36mDataFrame.groupby\u001b[0;34m(self, by, axis, level, as_index, sort, group_keys, squeeze, observed, dropna)\u001b[0m\n\u001b[1;32m   7711\u001b[0m \u001b[39mif\u001b[39;00m level \u001b[39mis\u001b[39;00m \u001b[39mNone\u001b[39;00m \u001b[39mand\u001b[39;00m by \u001b[39mis\u001b[39;00m \u001b[39mNone\u001b[39;00m:\n\u001b[1;32m   7712\u001b[0m     \u001b[39mraise\u001b[39;00m \u001b[39mTypeError\u001b[39;00m(\u001b[39m\"\u001b[39m\u001b[39mYou have to supply one of \u001b[39m\u001b[39m'\u001b[39m\u001b[39mby\u001b[39m\u001b[39m'\u001b[39m\u001b[39m and \u001b[39m\u001b[39m'\u001b[39m\u001b[39mlevel\u001b[39m\u001b[39m'\u001b[39m\u001b[39m\"\u001b[39m)\n\u001b[0;32m-> 7713\u001b[0m axis \u001b[39m=\u001b[39m \u001b[39mself\u001b[39;49m\u001b[39m.\u001b[39;49m_get_axis_number(axis)\n\u001b[1;32m   7715\u001b[0m \u001b[39m# https://github.com/python/mypy/issues/7642\u001b[39;00m\n\u001b[1;32m   7716\u001b[0m \u001b[39m# error: Argument \"squeeze\" to \"DataFrameGroupBy\" has incompatible type\u001b[39;00m\n\u001b[1;32m   7717\u001b[0m \u001b[39m# \"Union[bool, NoDefault]\"; expected \"bool\"\u001b[39;00m\n\u001b[1;32m   7718\u001b[0m \u001b[39mreturn\u001b[39;00m DataFrameGroupBy(\n\u001b[1;32m   7719\u001b[0m     obj\u001b[39m=\u001b[39m\u001b[39mself\u001b[39m,\n\u001b[1;32m   7720\u001b[0m     keys\u001b[39m=\u001b[39mby,\n\u001b[0;32m   (...)\u001b[0m\n\u001b[1;32m   7728\u001b[0m     dropna\u001b[39m=\u001b[39mdropna,\n\u001b[1;32m   7729\u001b[0m )\n",
            "File \u001b[0;32m/usr/local/lib/python3.9/site-packages/pandas/core/generic.py:552\u001b[0m, in \u001b[0;36mNDFrame._get_axis_number\u001b[0;34m(cls, axis)\u001b[0m\n\u001b[1;32m    550\u001b[0m     \u001b[39mreturn\u001b[39;00m \u001b[39mcls\u001b[39m\u001b[39m.\u001b[39m_AXIS_TO_AXIS_NUMBER[axis]\n\u001b[1;32m    551\u001b[0m \u001b[39mexcept\u001b[39;00m \u001b[39mKeyError\u001b[39;00m:\n\u001b[0;32m--> 552\u001b[0m     \u001b[39mraise\u001b[39;00m \u001b[39mValueError\u001b[39;00m(\u001b[39mf\u001b[39m\u001b[39m\"\u001b[39m\u001b[39mNo axis named \u001b[39m\u001b[39m{\u001b[39;00maxis\u001b[39m}\u001b[39;00m\u001b[39m for object type \u001b[39m\u001b[39m{\u001b[39;00m\u001b[39mcls\u001b[39m\u001b[39m.\u001b[39m\u001b[39m__name__\u001b[39m\u001b[39m}\u001b[39;00m\u001b[39m\"\u001b[39m)\n",
            "\u001b[0;31mValueError\u001b[0m: No axis named 都道府県名 for object type DataFrame"
          ]
        }
      ],
      "source": [
        "url = 'https://gov-csv-export-public.s3.ap-northeast-1.amazonaws.com/mt_city/mt_city_all.csv.zip'\n",
        "data = get_data(url)\n",
        "df = make_dataframe(data)\n",
        "df.info()\n",
        "\n",
        "df.head(3)\n",
        "\n",
        "df.groupby(['全国地方公共団体コード','都道府県名']).size().sort_index()\n"
      ]
    }
  ],
  "metadata": {
    "colab": {
      "collapsed_sections": [],
      "name": "abr-data-summery.ipynb",
      "provenance": [],
      "include_colab_link": true
    },
    "kernelspec": {
      "display_name": "Python 3.9.13 64-bit",
      "language": "python",
      "name": "python3"
    },
    "language_info": {
      "codemirror_mode": {
        "name": "ipython",
        "version": 3
      },
      "file_extension": ".py",
      "mimetype": "text/x-python",
      "name": "python",
      "nbconvert_exporter": "python",
      "pygments_lexer": "ipython3",
      "version": "3.9.13"
    },
    "vscode": {
      "interpreter": {
        "hash": "aee8b7b246df8f9039afb4144a1f6fd8d2ca17a180786b69acc140d282b71a49"
      }
    }
  },
  "nbformat": 4,
  "nbformat_minor": 0
}