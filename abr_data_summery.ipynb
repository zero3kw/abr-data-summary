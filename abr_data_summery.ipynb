{
  "cells": [
    {
      "cell_type": "markdown",
      "metadata": {
        "id": "view-in-github",
        "colab_type": "text"
      },
      "source": [
        "<a href=\"https://colab.research.google.com/github/zero3kw/abr-data-summary/blob/main/abr_data_summery.ipynb\" target=\"_parent\"><img src=\"https://colab.research.google.com/assets/colab-badge.svg\" alt=\"Open In Colab\"/></a>"
      ]
    },
    {
      "cell_type": "markdown",
      "source": [
        "# 最初に実行"
      ],
      "metadata": {
        "id": "937kaw21HTU8"
      }
    },
    {
      "cell_type": "code",
      "execution_count": null,
      "metadata": {
        "id": "8xOR5jfmu395"
      },
      "outputs": [],
      "source": [
        "import io\n",
        "import urllib.request\n",
        "import zipfile\n",
        "import pandas as pd\n",
        "\n",
        "def get_data(url):\n",
        "    req = urllib.request.Request(url)\n",
        "    with urllib.request.urlopen(req) as res:\n",
        "        data = res.read()\n",
        "    with zipfile.ZipFile(io.BytesIO(data), 'r') as zip_file:\n",
        "        with zip_file.open(zip_file.namelist()[0], 'r') as zip_data:\n",
        "            return zip_data.read().decode('utf-8')\n",
        "\n",
        "def make_dataframe(data):\n",
        "    dataset = []\n",
        "    for line in data.split('\\r\\n'):\n",
        "        if len(line) > 0:\n",
        "            dataset.append(line.split(','))\n",
        "    return pd.DataFrame(dataset[1:],columns=dataset[0])"
      ]
    },
    {
      "cell_type": "markdown",
      "source": [
        "# 日本 都道府県マスター データセット\n",
        "\n",
        "- [ベース・レジストリ データカタログサイト(https://registry-catalog.registries.digital.go.jp/dataset/o1-000000_g2-000001)](https://registry-catalog.registries.digital.go.jp/dataset/o1-000000_g2-000001)"
      ],
      "metadata": {
        "id": "HLGCEuLgHx3Z"
      }
    },
    {
      "cell_type": "code",
      "execution_count": 7,
      "metadata": {
        "id": "wRwxkwAdFzy2"
      },
      "outputs": [],
      "source": [
        "url = 'https://gov-csv-export-public.s3.ap-northeast-1.amazonaws.com/mt_pref/mt_pref_all.csv.zip'\n",
        "data = get_data(url)\n",
        "df = make_dataframe(data)"
      ]
    },
    {
      "cell_type": "markdown",
      "source": [
        "## データ件数"
      ],
      "metadata": {
        "id": "ixiOhUhILiJi"
      }
    },
    {
      "cell_type": "code",
      "source": [
        "print(len(df))"
      ],
      "metadata": {
        "colab": {
          "base_uri": "https://localhost:8080/"
        },
        "id": "VJ_oXMbnKq6t",
        "outputId": "58c59702-2084-475d-a401-005298e670a5"
      },
      "execution_count": 9,
      "outputs": [
        {
          "output_type": "stream",
          "name": "stdout",
          "text": [
            "47\n"
          ]
        }
      ]
    },
    {
      "cell_type": "markdown",
      "source": [
        "## 先頭３行\n"
      ],
      "metadata": {
        "id": "hHF_qme1LsD6"
      }
    },
    {
      "cell_type": "code",
      "source": [
        "df.head(3)"
      ],
      "metadata": {
        "colab": {
          "base_uri": "https://localhost:8080/",
          "height": 143
        },
        "id": "461-UsqZKmWl",
        "outputId": "8494c029-1af5-4531-a284-cb2dec7209dc"
      },
      "execution_count": 8,
      "outputs": [
        {
          "output_type": "execute_result",
          "data": {
            "text/plain": [
              "  全国地方公共団体コード 都道府県名 都道府県名_カナ  都道府県名_英字       効力発生日 廃止日 備考\n",
              "0      010006   北海道   ホッカイドウ  Hokkaido  1947-04-17       \n",
              "1      020001   青森県   アオモリケン    Aomori  1947-04-17       \n",
              "2      030007   岩手県    イワテケン     Iwate  1947-04-17       "
            ],
            "text/html": [
              "\n",
              "  <div id=\"df-cee82bb9-07c9-4cde-9324-54d0ecea0052\">\n",
              "    <div class=\"colab-df-container\">\n",
              "      <div>\n",
              "<style scoped>\n",
              "    .dataframe tbody tr th:only-of-type {\n",
              "        vertical-align: middle;\n",
              "    }\n",
              "\n",
              "    .dataframe tbody tr th {\n",
              "        vertical-align: top;\n",
              "    }\n",
              "\n",
              "    .dataframe thead th {\n",
              "        text-align: right;\n",
              "    }\n",
              "</style>\n",
              "<table border=\"1\" class=\"dataframe\">\n",
              "  <thead>\n",
              "    <tr style=\"text-align: right;\">\n",
              "      <th></th>\n",
              "      <th>全国地方公共団体コード</th>\n",
              "      <th>都道府県名</th>\n",
              "      <th>都道府県名_カナ</th>\n",
              "      <th>都道府県名_英字</th>\n",
              "      <th>効力発生日</th>\n",
              "      <th>廃止日</th>\n",
              "      <th>備考</th>\n",
              "    </tr>\n",
              "  </thead>\n",
              "  <tbody>\n",
              "    <tr>\n",
              "      <th>0</th>\n",
              "      <td>010006</td>\n",
              "      <td>北海道</td>\n",
              "      <td>ホッカイドウ</td>\n",
              "      <td>Hokkaido</td>\n",
              "      <td>1947-04-17</td>\n",
              "      <td></td>\n",
              "      <td></td>\n",
              "    </tr>\n",
              "    <tr>\n",
              "      <th>1</th>\n",
              "      <td>020001</td>\n",
              "      <td>青森県</td>\n",
              "      <td>アオモリケン</td>\n",
              "      <td>Aomori</td>\n",
              "      <td>1947-04-17</td>\n",
              "      <td></td>\n",
              "      <td></td>\n",
              "    </tr>\n",
              "    <tr>\n",
              "      <th>2</th>\n",
              "      <td>030007</td>\n",
              "      <td>岩手県</td>\n",
              "      <td>イワテケン</td>\n",
              "      <td>Iwate</td>\n",
              "      <td>1947-04-17</td>\n",
              "      <td></td>\n",
              "      <td></td>\n",
              "    </tr>\n",
              "  </tbody>\n",
              "</table>\n",
              "</div>\n",
              "      <button class=\"colab-df-convert\" onclick=\"convertToInteractive('df-cee82bb9-07c9-4cde-9324-54d0ecea0052')\"\n",
              "              title=\"Convert this dataframe to an interactive table.\"\n",
              "              style=\"display:none;\">\n",
              "        \n",
              "  <svg xmlns=\"http://www.w3.org/2000/svg\" height=\"24px\"viewBox=\"0 0 24 24\"\n",
              "       width=\"24px\">\n",
              "    <path d=\"M0 0h24v24H0V0z\" fill=\"none\"/>\n",
              "    <path d=\"M18.56 5.44l.94 2.06.94-2.06 2.06-.94-2.06-.94-.94-2.06-.94 2.06-2.06.94zm-11 1L8.5 8.5l.94-2.06 2.06-.94-2.06-.94L8.5 2.5l-.94 2.06-2.06.94zm10 10l.94 2.06.94-2.06 2.06-.94-2.06-.94-.94-2.06-.94 2.06-2.06.94z\"/><path d=\"M17.41 7.96l-1.37-1.37c-.4-.4-.92-.59-1.43-.59-.52 0-1.04.2-1.43.59L10.3 9.45l-7.72 7.72c-.78.78-.78 2.05 0 2.83L4 21.41c.39.39.9.59 1.41.59.51 0 1.02-.2 1.41-.59l7.78-7.78 2.81-2.81c.8-.78.8-2.07 0-2.86zM5.41 20L4 18.59l7.72-7.72 1.47 1.35L5.41 20z\"/>\n",
              "  </svg>\n",
              "      </button>\n",
              "      \n",
              "  <style>\n",
              "    .colab-df-container {\n",
              "      display:flex;\n",
              "      flex-wrap:wrap;\n",
              "      gap: 12px;\n",
              "    }\n",
              "\n",
              "    .colab-df-convert {\n",
              "      background-color: #E8F0FE;\n",
              "      border: none;\n",
              "      border-radius: 50%;\n",
              "      cursor: pointer;\n",
              "      display: none;\n",
              "      fill: #1967D2;\n",
              "      height: 32px;\n",
              "      padding: 0 0 0 0;\n",
              "      width: 32px;\n",
              "    }\n",
              "\n",
              "    .colab-df-convert:hover {\n",
              "      background-color: #E2EBFA;\n",
              "      box-shadow: 0px 1px 2px rgba(60, 64, 67, 0.3), 0px 1px 3px 1px rgba(60, 64, 67, 0.15);\n",
              "      fill: #174EA6;\n",
              "    }\n",
              "\n",
              "    [theme=dark] .colab-df-convert {\n",
              "      background-color: #3B4455;\n",
              "      fill: #D2E3FC;\n",
              "    }\n",
              "\n",
              "    [theme=dark] .colab-df-convert:hover {\n",
              "      background-color: #434B5C;\n",
              "      box-shadow: 0px 1px 3px 1px rgba(0, 0, 0, 0.15);\n",
              "      filter: drop-shadow(0px 1px 2px rgba(0, 0, 0, 0.3));\n",
              "      fill: #FFFFFF;\n",
              "    }\n",
              "  </style>\n",
              "\n",
              "      <script>\n",
              "        const buttonEl =\n",
              "          document.querySelector('#df-cee82bb9-07c9-4cde-9324-54d0ecea0052 button.colab-df-convert');\n",
              "        buttonEl.style.display =\n",
              "          google.colab.kernel.accessAllowed ? 'block' : 'none';\n",
              "\n",
              "        async function convertToInteractive(key) {\n",
              "          const element = document.querySelector('#df-cee82bb9-07c9-4cde-9324-54d0ecea0052');\n",
              "          const dataTable =\n",
              "            await google.colab.kernel.invokeFunction('convertToInteractive',\n",
              "                                                     [key], {});\n",
              "          if (!dataTable) return;\n",
              "\n",
              "          const docLinkHtml = 'Like what you see? Visit the ' +\n",
              "            '<a target=\"_blank\" href=https://colab.research.google.com/notebooks/data_table.ipynb>data table notebook</a>'\n",
              "            + ' to learn more about interactive tables.';\n",
              "          element.innerHTML = '';\n",
              "          dataTable['output_type'] = 'display_data';\n",
              "          await google.colab.output.renderOutput(dataTable, element);\n",
              "          const docLink = document.createElement('div');\n",
              "          docLink.innerHTML = docLinkHtml;\n",
              "          element.appendChild(docLink);\n",
              "        }\n",
              "      </script>\n",
              "    </div>\n",
              "  </div>\n",
              "  "
            ]
          },
          "metadata": {},
          "execution_count": 8
        }
      ]
    },
    {
      "cell_type": "markdown",
      "source": [
        "## 詳細"
      ],
      "metadata": {
        "id": "afcGDYFXLxhK"
      }
    },
    {
      "cell_type": "code",
      "source": [
        "df.info()"
      ],
      "metadata": {
        "colab": {
          "base_uri": "https://localhost:8080/"
        },
        "id": "_WN55_kxKjoB",
        "outputId": "3a26ed23-acf5-41a4-bdf2-5e7fb8f9edcb"
      },
      "execution_count": 10,
      "outputs": [
        {
          "output_type": "stream",
          "name": "stdout",
          "text": [
            "<class 'pandas.core.frame.DataFrame'>\n",
            "RangeIndex: 47 entries, 0 to 46\n",
            "Data columns (total 7 columns):\n",
            " #   Column       Non-Null Count  Dtype \n",
            "---  ------       --------------  ----- \n",
            " 0   全国地方公共団体コード  47 non-null     object\n",
            " 1   都道府県名        47 non-null     object\n",
            " 2   都道府県名_カナ     47 non-null     object\n",
            " 3   都道府県名_英字     47 non-null     object\n",
            " 4   効力発生日        47 non-null     object\n",
            " 5   廃止日          47 non-null     object\n",
            " 6   備考           47 non-null     object\n",
            "dtypes: object(7)\n",
            "memory usage: 2.7+ KB\n"
          ]
        }
      ]
    },
    {
      "cell_type": "markdown",
      "source": [
        "# 日本 市区町村マスター データセット\n",
        "- [ベース・レジストリ データカタログサイト(https://registry-catalog.registries.digital.go.jp/dataset/o1-000000_g2-000002)](https://registry-catalog.registries.digital.go.jp/dataset/o1-000000_g2-000002)"
      ],
      "metadata": {
        "id": "8oqk-k8FH7PA"
      }
    },
    {
      "cell_type": "code",
      "execution_count": 11,
      "metadata": {
        "id": "G3Mzo7O9Fzy3"
      },
      "outputs": [],
      "source": [
        "url = 'https://gov-csv-export-public.s3.ap-northeast-1.amazonaws.com/mt_city/mt_city_all.csv.zip'\n",
        "data = get_data(url)\n",
        "df = make_dataframe(data)"
      ]
    },
    {
      "cell_type": "markdown",
      "source": [],
      "metadata": {
        "id": "En6VcZKyI42r"
      }
    },
    {
      "cell_type": "markdown",
      "source": [
        "## データ件数"
      ],
      "metadata": {
        "id": "EekMIio6L-wJ"
      }
    },
    {
      "cell_type": "code",
      "source": [
        "print(len(df))"
      ],
      "metadata": {
        "colab": {
          "base_uri": "https://localhost:8080/"
        },
        "outputId": "d350776f-d1fe-4db9-ef71-0f11860bd60e",
        "id": "-_nCChGuL-wK"
      },
      "execution_count": 12,
      "outputs": [
        {
          "output_type": "stream",
          "name": "stdout",
          "text": [
            "1922\n"
          ]
        }
      ]
    },
    {
      "cell_type": "markdown",
      "source": [
        "## 都道府県別件数"
      ],
      "metadata": {
        "id": "Daba634zMIJe"
      }
    },
    {
      "cell_type": "code",
      "source": [
        "df.groupby([df['全国地方公共団体コード'].str[:2],'都道府県名']).size()"
      ],
      "metadata": {
        "colab": {
          "base_uri": "https://localhost:8080/"
        },
        "id": "p3jH46yMMQBS",
        "outputId": "3be334d9-b14b-4e6a-e19e-188fa9bcbd7a"
      },
      "execution_count": 14,
      "outputs": [
        {
          "output_type": "execute_result",
          "data": {
            "text/plain": [
              "全国地方公共団体コード  都道府県名\n",
              "01           北海道      195\n",
              "02           青森県       40\n",
              "03           岩手県       33\n",
              "04           宮城県       40\n",
              "05           秋田県       25\n",
              "06           山形県       35\n",
              "07           福島県       59\n",
              "08           茨城県       44\n",
              "09           栃木県       25\n",
              "10           群馬県       35\n",
              "11           埼玉県       73\n",
              "12           千葉県       60\n",
              "13           東京都       62\n",
              "14           神奈川県      61\n",
              "15           新潟県       38\n",
              "16           富山県       15\n",
              "17           石川県       19\n",
              "18           福井県       17\n",
              "19           山梨県       27\n",
              "20           長野県       77\n",
              "21           岐阜県       42\n",
              "22           静岡県       45\n",
              "23           愛知県       70\n",
              "24           三重県       29\n",
              "25           滋賀県       19\n",
              "26           京都府       37\n",
              "27           大阪府       74\n",
              "28           兵庫県       50\n",
              "29           奈良県       39\n",
              "30           和歌山県      30\n",
              "31           鳥取県       19\n",
              "32           島根県       19\n",
              "33           岡山県       31\n",
              "34           広島県       31\n",
              "35           山口県       19\n",
              "36           徳島県       24\n",
              "37           香川県       17\n",
              "38           愛媛県       20\n",
              "39           高知県       34\n",
              "40           福岡県       74\n",
              "41           佐賀県       20\n",
              "42           長崎県       21\n",
              "43           熊本県       50\n",
              "44           大分県       18\n",
              "45           宮崎県       26\n",
              "46           鹿児島県      43\n",
              "47           沖縄県       41\n",
              "dtype: int64"
            ]
          },
          "metadata": {},
          "execution_count": 14
        }
      ]
    },
    {
      "cell_type": "markdown",
      "source": [
        "## 先頭３行\n"
      ],
      "metadata": {
        "id": "LWvR_p_GL-wL"
      }
    },
    {
      "cell_type": "code",
      "source": [
        "df.head(3)"
      ],
      "metadata": {
        "colab": {
          "base_uri": "https://localhost:8080/",
          "height": 143
        },
        "outputId": "a2baed1c-05cf-42d9-e722-6ded8fb90260",
        "id": "87YxQqMNL-wM"
      },
      "execution_count": 13,
      "outputs": [
        {
          "output_type": "execute_result",
          "data": {
            "text/plain": [
              "  全国地方公共団体コード 都道府県名 都道府県名_カナ  都道府県名_英字 郡名 郡名_カナ 郡名_英字 市区町村名 市区町村名_カナ  \\\n",
              "0      011002   北海道   ホッカイドウ  Hokkaido                  札幌市    サッポロシ   \n",
              "1      011011   北海道   ホッカイドウ  Hokkaido                  札幌市    サッポロシ   \n",
              "2      011029   北海道   ホッカイドウ  Hokkaido                  札幌市    サッポロシ   \n",
              "\n",
              "      市区町村名_英字 政令市区名 政令市区名_カナ 政令市区名_英字       効力発生日 廃止日 備考  \n",
              "0  Sapporo-shi                          1947-04-17         \n",
              "1  Sapporo-shi   中央区   チュウオウク  Chuo-ku  1947-04-17         \n",
              "2  Sapporo-shi    北区      キタク  Kita-ku  1947-04-17         "
            ],
            "text/html": [
              "\n",
              "  <div id=\"df-4b71065a-c70a-48fa-9fbc-2dc0f24cdbd7\">\n",
              "    <div class=\"colab-df-container\">\n",
              "      <div>\n",
              "<style scoped>\n",
              "    .dataframe tbody tr th:only-of-type {\n",
              "        vertical-align: middle;\n",
              "    }\n",
              "\n",
              "    .dataframe tbody tr th {\n",
              "        vertical-align: top;\n",
              "    }\n",
              "\n",
              "    .dataframe thead th {\n",
              "        text-align: right;\n",
              "    }\n",
              "</style>\n",
              "<table border=\"1\" class=\"dataframe\">\n",
              "  <thead>\n",
              "    <tr style=\"text-align: right;\">\n",
              "      <th></th>\n",
              "      <th>全国地方公共団体コード</th>\n",
              "      <th>都道府県名</th>\n",
              "      <th>都道府県名_カナ</th>\n",
              "      <th>都道府県名_英字</th>\n",
              "      <th>郡名</th>\n",
              "      <th>郡名_カナ</th>\n",
              "      <th>郡名_英字</th>\n",
              "      <th>市区町村名</th>\n",
              "      <th>市区町村名_カナ</th>\n",
              "      <th>市区町村名_英字</th>\n",
              "      <th>政令市区名</th>\n",
              "      <th>政令市区名_カナ</th>\n",
              "      <th>政令市区名_英字</th>\n",
              "      <th>効力発生日</th>\n",
              "      <th>廃止日</th>\n",
              "      <th>備考</th>\n",
              "    </tr>\n",
              "  </thead>\n",
              "  <tbody>\n",
              "    <tr>\n",
              "      <th>0</th>\n",
              "      <td>011002</td>\n",
              "      <td>北海道</td>\n",
              "      <td>ホッカイドウ</td>\n",
              "      <td>Hokkaido</td>\n",
              "      <td></td>\n",
              "      <td></td>\n",
              "      <td></td>\n",
              "      <td>札幌市</td>\n",
              "      <td>サッポロシ</td>\n",
              "      <td>Sapporo-shi</td>\n",
              "      <td></td>\n",
              "      <td></td>\n",
              "      <td></td>\n",
              "      <td>1947-04-17</td>\n",
              "      <td></td>\n",
              "      <td></td>\n",
              "    </tr>\n",
              "    <tr>\n",
              "      <th>1</th>\n",
              "      <td>011011</td>\n",
              "      <td>北海道</td>\n",
              "      <td>ホッカイドウ</td>\n",
              "      <td>Hokkaido</td>\n",
              "      <td></td>\n",
              "      <td></td>\n",
              "      <td></td>\n",
              "      <td>札幌市</td>\n",
              "      <td>サッポロシ</td>\n",
              "      <td>Sapporo-shi</td>\n",
              "      <td>中央区</td>\n",
              "      <td>チュウオウク</td>\n",
              "      <td>Chuo-ku</td>\n",
              "      <td>1947-04-17</td>\n",
              "      <td></td>\n",
              "      <td></td>\n",
              "    </tr>\n",
              "    <tr>\n",
              "      <th>2</th>\n",
              "      <td>011029</td>\n",
              "      <td>北海道</td>\n",
              "      <td>ホッカイドウ</td>\n",
              "      <td>Hokkaido</td>\n",
              "      <td></td>\n",
              "      <td></td>\n",
              "      <td></td>\n",
              "      <td>札幌市</td>\n",
              "      <td>サッポロシ</td>\n",
              "      <td>Sapporo-shi</td>\n",
              "      <td>北区</td>\n",
              "      <td>キタク</td>\n",
              "      <td>Kita-ku</td>\n",
              "      <td>1947-04-17</td>\n",
              "      <td></td>\n",
              "      <td></td>\n",
              "    </tr>\n",
              "  </tbody>\n",
              "</table>\n",
              "</div>\n",
              "      <button class=\"colab-df-convert\" onclick=\"convertToInteractive('df-4b71065a-c70a-48fa-9fbc-2dc0f24cdbd7')\"\n",
              "              title=\"Convert this dataframe to an interactive table.\"\n",
              "              style=\"display:none;\">\n",
              "        \n",
              "  <svg xmlns=\"http://www.w3.org/2000/svg\" height=\"24px\"viewBox=\"0 0 24 24\"\n",
              "       width=\"24px\">\n",
              "    <path d=\"M0 0h24v24H0V0z\" fill=\"none\"/>\n",
              "    <path d=\"M18.56 5.44l.94 2.06.94-2.06 2.06-.94-2.06-.94-.94-2.06-.94 2.06-2.06.94zm-11 1L8.5 8.5l.94-2.06 2.06-.94-2.06-.94L8.5 2.5l-.94 2.06-2.06.94zm10 10l.94 2.06.94-2.06 2.06-.94-2.06-.94-.94-2.06-.94 2.06-2.06.94z\"/><path d=\"M17.41 7.96l-1.37-1.37c-.4-.4-.92-.59-1.43-.59-.52 0-1.04.2-1.43.59L10.3 9.45l-7.72 7.72c-.78.78-.78 2.05 0 2.83L4 21.41c.39.39.9.59 1.41.59.51 0 1.02-.2 1.41-.59l7.78-7.78 2.81-2.81c.8-.78.8-2.07 0-2.86zM5.41 20L4 18.59l7.72-7.72 1.47 1.35L5.41 20z\"/>\n",
              "  </svg>\n",
              "      </button>\n",
              "      \n",
              "  <style>\n",
              "    .colab-df-container {\n",
              "      display:flex;\n",
              "      flex-wrap:wrap;\n",
              "      gap: 12px;\n",
              "    }\n",
              "\n",
              "    .colab-df-convert {\n",
              "      background-color: #E8F0FE;\n",
              "      border: none;\n",
              "      border-radius: 50%;\n",
              "      cursor: pointer;\n",
              "      display: none;\n",
              "      fill: #1967D2;\n",
              "      height: 32px;\n",
              "      padding: 0 0 0 0;\n",
              "      width: 32px;\n",
              "    }\n",
              "\n",
              "    .colab-df-convert:hover {\n",
              "      background-color: #E2EBFA;\n",
              "      box-shadow: 0px 1px 2px rgba(60, 64, 67, 0.3), 0px 1px 3px 1px rgba(60, 64, 67, 0.15);\n",
              "      fill: #174EA6;\n",
              "    }\n",
              "\n",
              "    [theme=dark] .colab-df-convert {\n",
              "      background-color: #3B4455;\n",
              "      fill: #D2E3FC;\n",
              "    }\n",
              "\n",
              "    [theme=dark] .colab-df-convert:hover {\n",
              "      background-color: #434B5C;\n",
              "      box-shadow: 0px 1px 3px 1px rgba(0, 0, 0, 0.15);\n",
              "      filter: drop-shadow(0px 1px 2px rgba(0, 0, 0, 0.3));\n",
              "      fill: #FFFFFF;\n",
              "    }\n",
              "  </style>\n",
              "\n",
              "      <script>\n",
              "        const buttonEl =\n",
              "          document.querySelector('#df-4b71065a-c70a-48fa-9fbc-2dc0f24cdbd7 button.colab-df-convert');\n",
              "        buttonEl.style.display =\n",
              "          google.colab.kernel.accessAllowed ? 'block' : 'none';\n",
              "\n",
              "        async function convertToInteractive(key) {\n",
              "          const element = document.querySelector('#df-4b71065a-c70a-48fa-9fbc-2dc0f24cdbd7');\n",
              "          const dataTable =\n",
              "            await google.colab.kernel.invokeFunction('convertToInteractive',\n",
              "                                                     [key], {});\n",
              "          if (!dataTable) return;\n",
              "\n",
              "          const docLinkHtml = 'Like what you see? Visit the ' +\n",
              "            '<a target=\"_blank\" href=https://colab.research.google.com/notebooks/data_table.ipynb>data table notebook</a>'\n",
              "            + ' to learn more about interactive tables.';\n",
              "          element.innerHTML = '';\n",
              "          dataTable['output_type'] = 'display_data';\n",
              "          await google.colab.output.renderOutput(dataTable, element);\n",
              "          const docLink = document.createElement('div');\n",
              "          docLink.innerHTML = docLinkHtml;\n",
              "          element.appendChild(docLink);\n",
              "        }\n",
              "      </script>\n",
              "    </div>\n",
              "  </div>\n",
              "  "
            ]
          },
          "metadata": {},
          "execution_count": 13
        }
      ]
    },
    {
      "cell_type": "markdown",
      "source": [
        "## 詳細"
      ],
      "metadata": {
        "id": "2cSxvYpKL-wM"
      }
    },
    {
      "cell_type": "code",
      "source": [
        "df.info()"
      ],
      "metadata": {
        "colab": {
          "base_uri": "https://localhost:8080/"
        },
        "outputId": "c77d2a30-40cc-48ab-89fd-b0f020c19a2a",
        "id": "Ey7uzUJmL-wN"
      },
      "execution_count": 15,
      "outputs": [
        {
          "output_type": "stream",
          "name": "stdout",
          "text": [
            "<class 'pandas.core.frame.DataFrame'>\n",
            "RangeIndex: 1922 entries, 0 to 1921\n",
            "Data columns (total 16 columns):\n",
            " #   Column       Non-Null Count  Dtype \n",
            "---  ------       --------------  ----- \n",
            " 0   全国地方公共団体コード  1922 non-null   object\n",
            " 1   都道府県名        1922 non-null   object\n",
            " 2   都道府県名_カナ     1922 non-null   object\n",
            " 3   都道府県名_英字     1922 non-null   object\n",
            " 4   郡名           1922 non-null   object\n",
            " 5   郡名_カナ        1922 non-null   object\n",
            " 6   郡名_英字        1922 non-null   object\n",
            " 7   市区町村名        1922 non-null   object\n",
            " 8   市区町村名_カナ     1922 non-null   object\n",
            " 9   市区町村名_英字     1922 non-null   object\n",
            " 10  政令市区名        1922 non-null   object\n",
            " 11  政令市区名_カナ     1922 non-null   object\n",
            " 12  政令市区名_英字     1922 non-null   object\n",
            " 13  効力発生日        1922 non-null   object\n",
            " 14  廃止日          1922 non-null   object\n",
            " 15  備考           1922 non-null   object\n",
            "dtypes: object(16)\n",
            "memory usage: 240.4+ KB\n"
          ]
        }
      ]
    },
    {
      "cell_type": "markdown",
      "source": [
        "# 日本 町字マスター データセット\n",
        "\n",
        "- [ベース・レジストリ データカタログサイト(https://registry-catalog.registries.digital.go.jp/dataset/o1-000000_g2-000003)](https://registry-catalog.registries.digital.go.jp/dataset/o1-000000_g2-000003)\n"
      ],
      "metadata": {
        "id": "bax6aLTcJJXe"
      }
    },
    {
      "cell_type": "code",
      "source": [
        "url = 'https://gov-csv-export-public.s3.ap-northeast-1.amazonaws.com/mt_town/mt_town_all.csv.zip'\n",
        "data = get_data(url)\n",
        "df = make_dataframe(data)"
      ],
      "metadata": {
        "id": "UEVH7Vt8JeZd"
      },
      "execution_count": 16,
      "outputs": []
    },
    {
      "cell_type": "markdown",
      "source": [
        "## データ件数"
      ],
      "metadata": {
        "id": "1l9c6VkaMmvE"
      }
    },
    {
      "cell_type": "code",
      "source": [
        "print(len(df))"
      ],
      "metadata": {
        "colab": {
          "base_uri": "https://localhost:8080/"
        },
        "outputId": "da50869c-a8a7-4055-b235-78f108f064d3",
        "id": "tskI_D2-MmvF"
      },
      "execution_count": 17,
      "outputs": [
        {
          "output_type": "stream",
          "name": "stdout",
          "text": [
            "739161\n"
          ]
        }
      ]
    },
    {
      "cell_type": "markdown",
      "source": [
        "## 都道府県別件数"
      ],
      "metadata": {
        "id": "CAZwCFMFMmvF"
      }
    },
    {
      "cell_type": "code",
      "source": [
        "df.groupby([df['全国地方公共団体コード'].str[:2],'都道府県名']).size()"
      ],
      "metadata": {
        "colab": {
          "base_uri": "https://localhost:8080/"
        },
        "outputId": "b50fea21-7fcb-444f-ec06-011037843509",
        "id": "WBqsfk86MmvG"
      },
      "execution_count": 18,
      "outputs": [
        {
          "output_type": "execute_result",
          "data": {
            "text/plain": [
              "全国地方公共団体コード  都道府県名\n",
              "01           北海道      31315\n",
              "02           青森県      17459\n",
              "03           岩手県      23989\n",
              "04           宮城県      41133\n",
              "05           秋田県      33693\n",
              "06           山形県      12513\n",
              "07           福島県      78676\n",
              "08           茨城県       8278\n",
              "09           栃木県       5553\n",
              "10           群馬県       4349\n",
              "11           埼玉県       8309\n",
              "12           千葉県       9524\n",
              "13           東京都       6491\n",
              "14           神奈川県      6070\n",
              "15           新潟県       9069\n",
              "16           富山県      25145\n",
              "17           石川県      58117\n",
              "18           福井県      81769\n",
              "19           山梨県       2401\n",
              "20           長野県       7372\n",
              "21           岐阜県      10011\n",
              "22           静岡県       6592\n",
              "23           愛知県      64912\n",
              "24           三重県       4999\n",
              "25           滋賀県       2682\n",
              "26           京都府      26568\n",
              "27           大阪府       9220\n",
              "28           兵庫県      29667\n",
              "29           奈良県       3181\n",
              "30           和歌山県      3455\n",
              "31           鳥取県       2625\n",
              "32           島根県       5465\n",
              "33           岡山県       8481\n",
              "34           広島県       9530\n",
              "35           山口県       6673\n",
              "36           徳島県      12602\n",
              "37           香川県       3289\n",
              "38           愛媛県       5714\n",
              "39           高知県       4774\n",
              "40           福岡県      10396\n",
              "41           佐賀県       3235\n",
              "42           長崎県       4928\n",
              "43           熊本県       9125\n",
              "44           大分県       6437\n",
              "45           宮崎県       5050\n",
              "46           鹿児島県      6491\n",
              "47           沖縄県       1834\n",
              "dtype: int64"
            ]
          },
          "metadata": {},
          "execution_count": 18
        }
      ]
    },
    {
      "cell_type": "markdown",
      "source": [
        "## 先頭３行\n"
      ],
      "metadata": {
        "id": "6jD-oJfQMmvG"
      }
    },
    {
      "cell_type": "code",
      "source": [
        "df.head(3)"
      ],
      "metadata": {
        "colab": {
          "base_uri": "https://localhost:8080/",
          "height": 286
        },
        "outputId": "075adbc5-3054-44a7-9819-2f2c1a658fa2",
        "id": "AAiXjsRqMmvG"
      },
      "execution_count": 19,
      "outputs": [
        {
          "output_type": "execute_result",
          "data": {
            "text/plain": [
              "  全国地方公共団体コード     町字id 町字区分コード 都道府県名 都道府県名_カナ  都道府県名_英字 郡名 郡名_カナ 郡名_英字 市区町村名  \\\n",
              "0      011011  0001001       2   北海道   ホッカイドウ  Hokkaido                  札幌市   \n",
              "1      011011  0001002       2   北海道   ホッカイドウ  Hokkaido                  札幌市   \n",
              "2      011011  0001003       2   北海道   ホッカイドウ  Hokkaido                  札幌市   \n",
              "\n",
              "   ... 小字_通称フラグ 大字・町外字フラグ 小字外字フラグ 状態フラグ 起番フラグ       効力発生日 廃止日 原典資料コード 郵便番号 備考  \n",
              "0  ...        0         0       0     0     1  1947-04-17          0           \n",
              "1  ...        0         0       0     0     1  1947-04-17          0           \n",
              "2  ...        0         0       0     0     1  1947-04-17          0           \n",
              "\n",
              "[3 rows x 37 columns]"
            ],
            "text/html": [
              "\n",
              "  <div id=\"df-d4fba49f-5aaa-46be-8d75-324461168b03\">\n",
              "    <div class=\"colab-df-container\">\n",
              "      <div>\n",
              "<style scoped>\n",
              "    .dataframe tbody tr th:only-of-type {\n",
              "        vertical-align: middle;\n",
              "    }\n",
              "\n",
              "    .dataframe tbody tr th {\n",
              "        vertical-align: top;\n",
              "    }\n",
              "\n",
              "    .dataframe thead th {\n",
              "        text-align: right;\n",
              "    }\n",
              "</style>\n",
              "<table border=\"1\" class=\"dataframe\">\n",
              "  <thead>\n",
              "    <tr style=\"text-align: right;\">\n",
              "      <th></th>\n",
              "      <th>全国地方公共団体コード</th>\n",
              "      <th>町字id</th>\n",
              "      <th>町字区分コード</th>\n",
              "      <th>都道府県名</th>\n",
              "      <th>都道府県名_カナ</th>\n",
              "      <th>都道府県名_英字</th>\n",
              "      <th>郡名</th>\n",
              "      <th>郡名_カナ</th>\n",
              "      <th>郡名_英字</th>\n",
              "      <th>市区町村名</th>\n",
              "      <th>...</th>\n",
              "      <th>小字_通称フラグ</th>\n",
              "      <th>大字・町外字フラグ</th>\n",
              "      <th>小字外字フラグ</th>\n",
              "      <th>状態フラグ</th>\n",
              "      <th>起番フラグ</th>\n",
              "      <th>効力発生日</th>\n",
              "      <th>廃止日</th>\n",
              "      <th>原典資料コード</th>\n",
              "      <th>郵便番号</th>\n",
              "      <th>備考</th>\n",
              "    </tr>\n",
              "  </thead>\n",
              "  <tbody>\n",
              "    <tr>\n",
              "      <th>0</th>\n",
              "      <td>011011</td>\n",
              "      <td>0001001</td>\n",
              "      <td>2</td>\n",
              "      <td>北海道</td>\n",
              "      <td>ホッカイドウ</td>\n",
              "      <td>Hokkaido</td>\n",
              "      <td></td>\n",
              "      <td></td>\n",
              "      <td></td>\n",
              "      <td>札幌市</td>\n",
              "      <td>...</td>\n",
              "      <td>0</td>\n",
              "      <td>0</td>\n",
              "      <td>0</td>\n",
              "      <td>0</td>\n",
              "      <td>1</td>\n",
              "      <td>1947-04-17</td>\n",
              "      <td></td>\n",
              "      <td>0</td>\n",
              "      <td></td>\n",
              "      <td></td>\n",
              "    </tr>\n",
              "    <tr>\n",
              "      <th>1</th>\n",
              "      <td>011011</td>\n",
              "      <td>0001002</td>\n",
              "      <td>2</td>\n",
              "      <td>北海道</td>\n",
              "      <td>ホッカイドウ</td>\n",
              "      <td>Hokkaido</td>\n",
              "      <td></td>\n",
              "      <td></td>\n",
              "      <td></td>\n",
              "      <td>札幌市</td>\n",
              "      <td>...</td>\n",
              "      <td>0</td>\n",
              "      <td>0</td>\n",
              "      <td>0</td>\n",
              "      <td>0</td>\n",
              "      <td>1</td>\n",
              "      <td>1947-04-17</td>\n",
              "      <td></td>\n",
              "      <td>0</td>\n",
              "      <td></td>\n",
              "      <td></td>\n",
              "    </tr>\n",
              "    <tr>\n",
              "      <th>2</th>\n",
              "      <td>011011</td>\n",
              "      <td>0001003</td>\n",
              "      <td>2</td>\n",
              "      <td>北海道</td>\n",
              "      <td>ホッカイドウ</td>\n",
              "      <td>Hokkaido</td>\n",
              "      <td></td>\n",
              "      <td></td>\n",
              "      <td></td>\n",
              "      <td>札幌市</td>\n",
              "      <td>...</td>\n",
              "      <td>0</td>\n",
              "      <td>0</td>\n",
              "      <td>0</td>\n",
              "      <td>0</td>\n",
              "      <td>1</td>\n",
              "      <td>1947-04-17</td>\n",
              "      <td></td>\n",
              "      <td>0</td>\n",
              "      <td></td>\n",
              "      <td></td>\n",
              "    </tr>\n",
              "  </tbody>\n",
              "</table>\n",
              "<p>3 rows × 37 columns</p>\n",
              "</div>\n",
              "      <button class=\"colab-df-convert\" onclick=\"convertToInteractive('df-d4fba49f-5aaa-46be-8d75-324461168b03')\"\n",
              "              title=\"Convert this dataframe to an interactive table.\"\n",
              "              style=\"display:none;\">\n",
              "        \n",
              "  <svg xmlns=\"http://www.w3.org/2000/svg\" height=\"24px\"viewBox=\"0 0 24 24\"\n",
              "       width=\"24px\">\n",
              "    <path d=\"M0 0h24v24H0V0z\" fill=\"none\"/>\n",
              "    <path d=\"M18.56 5.44l.94 2.06.94-2.06 2.06-.94-2.06-.94-.94-2.06-.94 2.06-2.06.94zm-11 1L8.5 8.5l.94-2.06 2.06-.94-2.06-.94L8.5 2.5l-.94 2.06-2.06.94zm10 10l.94 2.06.94-2.06 2.06-.94-2.06-.94-.94-2.06-.94 2.06-2.06.94z\"/><path d=\"M17.41 7.96l-1.37-1.37c-.4-.4-.92-.59-1.43-.59-.52 0-1.04.2-1.43.59L10.3 9.45l-7.72 7.72c-.78.78-.78 2.05 0 2.83L4 21.41c.39.39.9.59 1.41.59.51 0 1.02-.2 1.41-.59l7.78-7.78 2.81-2.81c.8-.78.8-2.07 0-2.86zM5.41 20L4 18.59l7.72-7.72 1.47 1.35L5.41 20z\"/>\n",
              "  </svg>\n",
              "      </button>\n",
              "      \n",
              "  <style>\n",
              "    .colab-df-container {\n",
              "      display:flex;\n",
              "      flex-wrap:wrap;\n",
              "      gap: 12px;\n",
              "    }\n",
              "\n",
              "    .colab-df-convert {\n",
              "      background-color: #E8F0FE;\n",
              "      border: none;\n",
              "      border-radius: 50%;\n",
              "      cursor: pointer;\n",
              "      display: none;\n",
              "      fill: #1967D2;\n",
              "      height: 32px;\n",
              "      padding: 0 0 0 0;\n",
              "      width: 32px;\n",
              "    }\n",
              "\n",
              "    .colab-df-convert:hover {\n",
              "      background-color: #E2EBFA;\n",
              "      box-shadow: 0px 1px 2px rgba(60, 64, 67, 0.3), 0px 1px 3px 1px rgba(60, 64, 67, 0.15);\n",
              "      fill: #174EA6;\n",
              "    }\n",
              "\n",
              "    [theme=dark] .colab-df-convert {\n",
              "      background-color: #3B4455;\n",
              "      fill: #D2E3FC;\n",
              "    }\n",
              "\n",
              "    [theme=dark] .colab-df-convert:hover {\n",
              "      background-color: #434B5C;\n",
              "      box-shadow: 0px 1px 3px 1px rgba(0, 0, 0, 0.15);\n",
              "      filter: drop-shadow(0px 1px 2px rgba(0, 0, 0, 0.3));\n",
              "      fill: #FFFFFF;\n",
              "    }\n",
              "  </style>\n",
              "\n",
              "      <script>\n",
              "        const buttonEl =\n",
              "          document.querySelector('#df-d4fba49f-5aaa-46be-8d75-324461168b03 button.colab-df-convert');\n",
              "        buttonEl.style.display =\n",
              "          google.colab.kernel.accessAllowed ? 'block' : 'none';\n",
              "\n",
              "        async function convertToInteractive(key) {\n",
              "          const element = document.querySelector('#df-d4fba49f-5aaa-46be-8d75-324461168b03');\n",
              "          const dataTable =\n",
              "            await google.colab.kernel.invokeFunction('convertToInteractive',\n",
              "                                                     [key], {});\n",
              "          if (!dataTable) return;\n",
              "\n",
              "          const docLinkHtml = 'Like what you see? Visit the ' +\n",
              "            '<a target=\"_blank\" href=https://colab.research.google.com/notebooks/data_table.ipynb>data table notebook</a>'\n",
              "            + ' to learn more about interactive tables.';\n",
              "          element.innerHTML = '';\n",
              "          dataTable['output_type'] = 'display_data';\n",
              "          await google.colab.output.renderOutput(dataTable, element);\n",
              "          const docLink = document.createElement('div');\n",
              "          docLink.innerHTML = docLinkHtml;\n",
              "          element.appendChild(docLink);\n",
              "        }\n",
              "      </script>\n",
              "    </div>\n",
              "  </div>\n",
              "  "
            ]
          },
          "metadata": {},
          "execution_count": 19
        }
      ]
    },
    {
      "cell_type": "markdown",
      "source": [
        "## 詳細"
      ],
      "metadata": {
        "id": "aKzAtxjlMmvH"
      }
    },
    {
      "cell_type": "code",
      "source": [
        "df.info()"
      ],
      "metadata": {
        "colab": {
          "base_uri": "https://localhost:8080/"
        },
        "outputId": "3b0ea781-6709-4205-9133-96a530df87f1",
        "id": "B4w-OunJMmvH"
      },
      "execution_count": 20,
      "outputs": [
        {
          "output_type": "stream",
          "name": "stdout",
          "text": [
            "<class 'pandas.core.frame.DataFrame'>\n",
            "RangeIndex: 739161 entries, 0 to 739160\n",
            "Data columns (total 37 columns):\n",
            " #   Column       Non-Null Count   Dtype \n",
            "---  ------       --------------   ----- \n",
            " 0   全国地方公共団体コード  739161 non-null  object\n",
            " 1   町字id         739161 non-null  object\n",
            " 2   町字区分コード      739161 non-null  object\n",
            " 3   都道府県名        739161 non-null  object\n",
            " 4   都道府県名_カナ     739161 non-null  object\n",
            " 5   都道府県名_英字     739161 non-null  object\n",
            " 6   郡名           739161 non-null  object\n",
            " 7   郡名_カナ        739161 non-null  object\n",
            " 8   郡名_英字        739161 non-null  object\n",
            " 9   市区町村名        739161 non-null  object\n",
            " 10  市区町村名_カナ     739161 non-null  object\n",
            " 11  市区町村名_英字     739161 non-null  object\n",
            " 12  政令市区名        739161 non-null  object\n",
            " 13  政令市区名_カナ     739161 non-null  object\n",
            " 14  政令市区名_英字     739161 non-null  object\n",
            " 15  大字・町名        739161 non-null  object\n",
            " 16  大字・町名_カナ     739161 non-null  object\n",
            " 17  大字・町名_英字     739161 non-null  object\n",
            " 18  丁目名          739161 non-null  object\n",
            " 19  丁目名_カナ       739161 non-null  object\n",
            " 20  丁目名_数字       739161 non-null  object\n",
            " 21  小字名          739161 non-null  object\n",
            " 22  小字名_カナ       739161 non-null  object\n",
            " 23  小字名_英字       739161 non-null  object\n",
            " 24  住居表示フラグ      739161 non-null  object\n",
            " 25  住居表示方式コード    739161 non-null  object\n",
            " 26  大字・町_通称フラグ   739161 non-null  object\n",
            " 27  小字_通称フラグ     739161 non-null  object\n",
            " 28  大字・町外字フラグ    739161 non-null  object\n",
            " 29  小字外字フラグ      739161 non-null  object\n",
            " 30  状態フラグ        739161 non-null  object\n",
            " 31  起番フラグ        739161 non-null  object\n",
            " 32  効力発生日        739161 non-null  object\n",
            " 33  廃止日          739161 non-null  object\n",
            " 34  原典資料コード      739161 non-null  object\n",
            " 35  郵便番号         739161 non-null  object\n",
            " 36  備考           739161 non-null  object\n",
            "dtypes: object(37)\n",
            "memory usage: 208.7+ MB\n"
          ]
        }
      ]
    }
  ],
  "metadata": {
    "colab": {
      "collapsed_sections": [],
      "name": "abr-data-summery.ipynb",
      "provenance": [],
      "include_colab_link": true
    },
    "kernelspec": {
      "display_name": "Python 3.9.13 64-bit",
      "language": "python",
      "name": "python3"
    },
    "language_info": {
      "codemirror_mode": {
        "name": "ipython",
        "version": 3
      },
      "file_extension": ".py",
      "mimetype": "text/x-python",
      "name": "python",
      "nbconvert_exporter": "python",
      "pygments_lexer": "ipython3",
      "version": "3.9.13"
    },
    "vscode": {
      "interpreter": {
        "hash": "aee8b7b246df8f9039afb4144a1f6fd8d2ca17a180786b69acc140d282b71a49"
      }
    }
  },
  "nbformat": 4,
  "nbformat_minor": 0
}